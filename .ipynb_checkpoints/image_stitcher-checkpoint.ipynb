{
 "cells": [
  {
   "cell_type": "code",
   "execution_count": 13,
   "id": "5fdb5900-585f-4b22-86fc-ad68f6ca7962",
   "metadata": {},
   "outputs": [
    {
     "ename": "ModuleNotFoundError",
     "evalue": "No module named 'sift_functions'",
     "output_type": "error",
     "traceback": [
      "\u001b[0;31m---------------------------------------------------------------------------\u001b[0m",
      "\u001b[0;31mModuleNotFoundError\u001b[0m                       Traceback (most recent call last)",
      "Cell \u001b[0;32mIn[13], line 3\u001b[0m\n\u001b[1;32m      1\u001b[0m \u001b[38;5;28;01mimport\u001b[39;00m \u001b[38;5;21;01mcv2\u001b[39;00m\n\u001b[1;32m      2\u001b[0m \u001b[38;5;28;01mimport\u001b[39;00m \u001b[38;5;21;01mnumpy\u001b[39;00m \u001b[38;5;28;01mas\u001b[39;00m \u001b[38;5;21;01mnp\u001b[39;00m\n\u001b[0;32m----> 3\u001b[0m \u001b[38;5;28;01mfrom\u001b[39;00m \u001b[38;5;21;01msift_functions\u001b[39;00m \u001b[38;5;28;01mimport\u001b[39;00m generate_image_pyramid, calculate_dog, SIFT_feature_detection\n\u001b[1;32m      4\u001b[0m \u001b[38;5;28;01mfrom\u001b[39;00m \u001b[38;5;21;01mhelper_functions\u001b[39;00m \u001b[38;5;28;01mimport\u001b[39;00m quick_resize\n\u001b[1;32m      6\u001b[0m \u001b[38;5;28;01mdef\u001b[39;00m \u001b[38;5;21mconvert_keypoints_to_cv2\u001b[39m(keypoints, scale\u001b[38;5;241m=\u001b[39m\u001b[38;5;241m1\u001b[39m):\n",
      "\u001b[0;31mModuleNotFoundError\u001b[0m: No module named 'sift_functions'"
     ]
    }
   ],
   "source": [
    "import cv2\n",
    "import numpy as np\n",
    "from sift_functions import generate_image_pyramid, calculate_dog, SIFT_feature_detection\n",
    "from helper_functions import quick_resize\n",
    "\n",
    "def convert_keypoints_to_cv2(keypoints, scale=1):\n",
    "    kp_cv2 = []\n",
    "    for octave_index, _, (r, c) in keypoints:\n",
    "        x = c * (2 ** octave_index)\n",
    "        y = r * (2 ** octave_index)\n",
    "        kp_cv2.append(cv2.KeyPoint(x / scale, y / scale, 1))\n",
    "    return kp_cv2\n",
    "\n",
    "def get_descriptors(img, kp_cv2):\n",
    "    sift = cv2.SIFT_create()\n",
    "    kp_cv2, descriptors = sift.compute(img, kp_cv2)\n",
    "    return kp_cv2, descriptors\n",
    "\n",
    "def match_keypoints(desc1, desc2):\n",
    "    bf = cv2.BFMatcher()\n",
    "    matches = bf.knnMatch(desc1, desc2, k=2)\n",
    "\n",
    "    good = []\n",
    "    for m, n in matches:\n",
    "        if m.distance < 0.75 * n.distance:\n",
    "            good.append(m)\n",
    "    return good\n",
    "\n",
    "def stitch_images(img1, img2, kp1, kp2, matches):\n",
    "    if len(matches) < 4:\n",
    "        print(\"Not enough matches to compute homography.\")\n",
    "        return None\n",
    "\n",
    "    src_pts = np.float32([kp1[m.queryIdx].pt for m in matches])\n",
    "    dst_pts = np.float32([kp2[m.trainIdx].pt for m in matches])\n",
    "\n",
    "    H, mask = cv2.findHomography(src_pts, dst_pts, cv2.RANSAC, 5.0)\n",
    "\n",
    "    result = cv2.warpPerspective(img1, H, (img1.shape[1] + img2.shape[1], img1.shape[0]))\n",
    "    result[0:img2.shape[0], 0:img2.shape[1]] = img2\n",
    "\n",
    "    return result"
   ]
  },
  {
   "cell_type": "code",
   "execution_count": null,
   "id": "0189667b-2bc5-49d4-9b1c-61815d92cefb",
   "metadata": {},
   "outputs": [],
   "source": []
  }
 ],
 "metadata": {
  "kernelspec": {
   "display_name": "Python 3 (ipykernel)",
   "language": "python",
   "name": "python3"
  },
  "language_info": {
   "codemirror_mode": {
    "name": "ipython",
    "version": 3
   },
   "file_extension": ".py",
   "mimetype": "text/x-python",
   "name": "python",
   "nbconvert_exporter": "python",
   "pygments_lexer": "ipython3",
   "version": "3.12.2"
  }
 },
 "nbformat": 4,
 "nbformat_minor": 5
}
